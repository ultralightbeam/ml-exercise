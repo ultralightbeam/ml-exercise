{
 "cells": [
  {
   "cell_type": "code",
   "execution_count": 1,
   "metadata": {},
   "outputs": [],
   "source": [
    "\n",
    "from sklearn.svm import SVC\n",
    "from sklearn.neural_network import MLPClassifier\n",
    "import numpy as np\n",
    "import matplotlib.pyplot as plt\n"
   ]
  },
  {
   "cell_type": "code",
   "execution_count": 7,
   "metadata": {},
   "outputs": [
    {
     "name": "stdout",
     "output_type": "stream",
     "text": [
      "(1000, 2)\n"
     ]
    }
   ],
   "source": [
    "# generate some 2d data\n",
    "\n",
    "n = 1000\n",
    "\n",
    "type_data = 'ring_in_ring'\n",
    "\n",
    "X = []\n",
    "y = []\n",
    "\n",
    "if type_data == 'ring':\n",
    "    counter = 0\n",
    "    while(True):\n",
    "        val = np.random.normal(size=2)        \n",
    "        if np.linalg.norm(val) < 0.3:\n",
    "            counter += 1\n",
    "            X.append(val)\n",
    "            y.append(1)\n",
    "        if counter >= n // 2:\n",
    "            break\n",
    "    counter = 0\n",
    "    while(True):\n",
    "        val = np.random.normal(size=2)\n",
    "        if np.linalg.norm(val) > 0.4 and np.linalg.norm(val) < 0.6:\n",
    "            counter += 1\n",
    "            X.append(val)\n",
    "            y.append(0)\n",
    "        if counter >= n // 2:\n",
    "            break    \n",
    "elif type_data == 'ring_in_ring':\n",
    "    counter = 0\n",
    "    while(True):\n",
    "        val = np.random.normal(size=2)\n",
    "        if np.linalg.norm(val) < 0.3:\n",
    "            counter += 1\n",
    "            X.append(val)\n",
    "            y.append(1)\n",
    "        if counter >= n // 4:\n",
    "            break\n",
    "    counter = 0\n",
    "    while(True):\n",
    "        val = np.random.normal(size=2)\n",
    "        if np.linalg.norm(val) > 0.4 and np.linalg.norm(val) < 0.6:\n",
    "            counter += 1\n",
    "            X.append(val)\n",
    "            y.append(0)\n",
    "        if counter >= n // 2:\n",
    "            break\n",
    "    counter = 0\n",
    "    while(True):\n",
    "        val = np.random.normal(size=2)\n",
    "        if np.linalg.norm(val) > 0.7 and np.linalg.norm(val) < 0.9:\n",
    "            counter += 1\n",
    "            X.append(val)\n",
    "            y.append(1)\n",
    "        if counter >= n // 4:\n",
    "            break    \n",
    "X = (np.array(X))\n",
    "y = np.array(y)\n",
    "\n",
    "print(X.shape)"
   ]
  },
  {
   "cell_type": "code",
   "execution_count": null,
   "metadata": {},
   "outputs": [
    {
     "name": "stdout",
     "output_type": "stream",
     "text": [
      "training...\n",
      "done\n"
     ]
    }
   ],
   "source": [
    "from sklearn.model_selection import train_test_split\n",
    "\n",
    "X_train, X_test, y_train, y_test = train_test_split(X, y, test_size=0.33, random_state=42)\n",
    "\n",
    "\n",
    "type_clf = 'nn'\n",
    "\n",
    "print('training...')\n",
    "if type_clf == 'nn':\n",
    "    clf = MLPClassifier(solver='adam', alpha=0.0001, max_iter=10**4, learning_rate='adaptive',\n",
    "                        hidden_layer_sizes=(8, 8), random_state=1)\n",
    "elif type_clf == 'svm':\n",
    "    clf = SVC(kernel='poly', degree=4, gamma=100, C=1000, coef0=0)\n",
    "clf.fit(X_train, y_train) \n",
    "print('done')\n",
    "\n",
    "plt.figure(figsize=(12, 5))\n",
    "plt.subplot(1, 2, 1)\n",
    "for k in range(len(y_train)):\n",
    "    if y_train[k]:\n",
    "        c = 'b'\n",
    "    else:\n",
    "        c = 'r'\n",
    "    plt.plot(X_train[k, 0], X_train[k, 1], '.', color=c)\n",
    "plt.subplot(1, 2, 2)\n",
    "y_pred = []\n",
    "for k in range(len(y_test)):\n",
    "    if y_test[k]:\n",
    "        c = 'b'\n",
    "    else:\n",
    "        c = 'r'\n",
    "    plt.plot(X_test[k, 0], X_test[k, 1], '.', color=c)\n",
    "    classval = clf.predict(X_test[k].reshape(1, -1))\n",
    "    y_pred.append(classval)\n",
    "    if y_test[k] != classval:\n",
    "        plt.plot(X_test[k, 0], X_test[k, 1], 'x', color='g', markersize=7)\n",
    "plt.show()\n",
    "\n",
    "m = 100\n",
    "x = np.linspace(-1, 1, m)\n",
    "M = np.zeros((m, m))\n",
    "for i in range(m):\n",
    "    for j in range(m):\n",
    "        M[i, j] = clf.predict(np.array([x[i], x[j]]).reshape(1, -1))\n",
    "M = np.flipud(M)\n",
    "plt.figure\n",
    "plt.imshow(M, cmap='gray')\n",
    "plt.colorbar()\n",
    "plt.show()\n"
   ]
  },
  {
   "cell_type": "code",
   "execution_count": null,
   "metadata": {
    "collapsed": true
   },
   "outputs": [],
   "source": []
  }
 ],
 "metadata": {
  "kernelspec": {
   "display_name": "Python 3",
   "language": "python",
   "name": "python3"
  },
  "language_info": {
   "codemirror_mode": {
    "name": "ipython",
    "version": 3
   },
   "file_extension": ".py",
   "mimetype": "text/x-python",
   "name": "python",
   "nbconvert_exporter": "python",
   "pygments_lexer": "ipython3",
   "version": "3.6.3"
  }
 },
 "nbformat": 4,
 "nbformat_minor": 2
}
